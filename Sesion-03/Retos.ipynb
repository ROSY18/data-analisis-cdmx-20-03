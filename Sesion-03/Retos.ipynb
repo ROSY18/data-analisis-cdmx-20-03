{
 "cells": [
  {
   "cell_type": "markdown",
   "metadata": {},
   "source": [
    "# RETOS"
   ]
  },
  {
   "cell_type": "markdown",
   "metadata": {},
   "source": [
    "Reto 1: Modifica el script `le.py` para que imprima los elementos ordenados por nombre.\n",
    "\n",
    "```\n",
    "$ python le.py\n",
    "      4096  .ipynb_checkpoints\n",
    "       120  le.py\n",
    "      6712  Notas.ipynb\n",
    "      2891  Retos.ipynb\n",
    "$ \n",
    "```"
   ]
  },
  {
   "cell_type": "markdown",
   "metadata": {},
   "source": [
    "Reto 2: Modifica el script `le.py` para que imprima los elementos ordenados por fecha, los más recientes primero.\n",
    "\n",
    "```\n",
    "$ python le.py\n",
    "       338  2020-05-30T04:41:26  le.py\n",
    "      8282  2020-05-30T04:36:35  Notas.ipynb\n",
    "      4096  2020-05-30T04:11:18  .ipynb_checkpoints\n",
    "      2891  2020-05-30T04:03:22  Retos.ipynb$ \n",
    "```"
   ]
  },
  {
   "cell_type": "markdown",
   "metadata": {},
   "source": [
    "Reto 3: Modifica el archivo `index.html` para que incluya una imagen después del texto. La imagen tiene que estar en la carpeta `img/`."
   ]
  },
  {
   "cell_type": "markdown",
   "metadata": {},
   "source": [
    "Reto 4: Modifica el script `reservaciones.py` para que también imprima la reservación en formato CSV.\n",
    "\n",
    "```\n",
    "$ python reservaciones.py --csv\n",
    "...\n",
    "```\n",
    "\n",
    "Guarda el resultado en un archivo usando el siguiente instrucción:\n",
    "\n",
    "```\n",
    "$ python reservaciones.py --csv > salida.csv\n",
    "$\n",
    "```\n",
    "\n",
    "Ahora puedes abrir el archivo `salida.csv` en una hoja de cálculo.\n",
    "```"
   ]
  }
 ],
 "metadata": {
  "kernelspec": {
   "display_name": "Python 3",
   "language": "python",
   "name": "python3"
  },
  "language_info": {
   "codemirror_mode": {
    "name": "ipython",
    "version": 3
   },
   "file_extension": ".py",
   "mimetype": "text/x-python",
   "name": "python",
   "nbconvert_exporter": "python",
   "pygments_lexer": "ipython3",
   "version": "3.7.4"
  }
 },
 "nbformat": 4,
 "nbformat_minor": 4
}
