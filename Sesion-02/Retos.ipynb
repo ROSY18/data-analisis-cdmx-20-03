{
 "cells": [
  {
   "cell_type": "markdown",
   "metadata": {},
   "source": [
    "# RETOS"
   ]
  },
  {
   "cell_type": "markdown",
   "metadata": {},
   "source": [
    "Reto 1: Modificar el script `claves.py` para romper el patrón de que siempre inicien con 1 minúscula, 1 mayúscula y un dígito."
   ]
  },
  {
   "cell_type": "markdown",
   "metadata": {},
   "source": [
    "Reto 2 (opcional): Modifica el script `claves.py` para que también incluya cuando menos un símbolo `($%&/#@-_=+-*)` como parte de las claves.\n",
    "\n",
    "```\n",
    "$ python genera-claves-signos.py \n",
    "Número de claves a generar: 5\n",
    "Longitud de claves (8): 8\n",
    "U2$m=PE1\n",
    "R+w%8kA1\n",
    "$y3/tKHi\n",
    "7m&/OZ0M\n",
    "I1d/L-j-\n",
    "```"
   ]
  },
  {
   "cell_type": "markdown",
   "metadata": {},
   "source": [
    "Reto 3: Modifica el script `recorridos.py` para que la impresión de la tabla se realice con la función `imprime_txt()`"
   ]
  },
  {
   "cell_type": "code",
   "execution_count": null,
   "metadata": {},
   "outputs": [],
   "source": []
  }
 ],
 "metadata": {
  "kernelspec": {
   "display_name": "Python 3",
   "language": "python",
   "name": "python3"
  },
  "language_info": {
   "codemirror_mode": {
    "name": "ipython",
    "version": 3
   },
   "file_extension": ".py",
   "mimetype": "text/x-python",
   "name": "python",
   "nbconvert_exporter": "python",
   "pygments_lexer": "ipython3",
   "version": "3.7.4"
  }
 },
 "nbformat": 4,
 "nbformat_minor": 4
}
